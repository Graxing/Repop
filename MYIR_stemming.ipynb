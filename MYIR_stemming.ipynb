{
 "cells": [
  {
   "cell_type": "code",
   "execution_count": 1,
   "id": "cb146498-9f6f-4448-af87-4086add63246",
   "metadata": {},
   "outputs": [
    {
     "name": "stderr",
     "output_type": "stream",
     "text": [
      "[nltk_data] Downloading package wordnet to\n",
      "[nltk_data]     C:\\Users\\thesw\\AppData\\Roaming\\nltk_data...\n",
      "[nltk_data]   Package wordnet is already up-to-date!\n",
      "[nltk_data] Downloading package punkt to\n",
      "[nltk_data]     C:\\Users\\thesw\\AppData\\Roaming\\nltk_data...\n",
      "[nltk_data]   Package punkt is already up-to-date!\n",
      "[nltk_data] Downloading package stopwords to\n",
      "[nltk_data]     C:\\Users\\thesw\\AppData\\Roaming\\nltk_data...\n",
      "[nltk_data]   Package stopwords is already up-to-date!\n"
     ]
    },
    {
     "data": {
      "text/plain": [
       "True"
      ]
     },
     "execution_count": 1,
     "metadata": {},
     "output_type": "execute_result"
    }
   ],
   "source": [
    "import string\n",
    "import nltk\n",
    "from nltk.corpus import stopwords\n",
    "from nltk.tokenize import word_tokenize\n",
    "from nltk.stem import PorterStemmer\n",
    "\n",
    "nltk.download('wordnet')\n",
    "nltk.download('punkt')\n",
    "nltk.download('stopwords')"
   ]
  },
  {
   "cell_type": "code",
   "execution_count": 2,
   "id": "d5bc0b49-868e-4108-b175-2f3a2599d523",
   "metadata": {},
   "outputs": [
    {
     "data": {
      "text/plain": [
       "'I am a fourth year engineering student ,from SPPU University!'"
      ]
     },
     "execution_count": 2,
     "metadata": {},
     "output_type": "execute_result"
    }
   ],
   "source": [
    "ps = PorterStemmer()\n",
    "text = \"I am a fourth year engineering student ,from SPPU University!\"\n",
    "text"
   ]
  },
  {
   "cell_type": "code",
   "execution_count": 3,
   "id": "471f729e-bb3a-4923-ac45-d5697c51bf28",
   "metadata": {},
   "outputs": [
    {
     "data": {
      "text/plain": [
       "['I',\n",
       " 'am',\n",
       " 'a',\n",
       " 'fourth',\n",
       " 'year',\n",
       " 'engineering',\n",
       " 'student',\n",
       " ',',\n",
       " 'from',\n",
       " 'SPPU',\n",
       " 'University',\n",
       " '!']"
      ]
     },
     "execution_count": 3,
     "metadata": {},
     "output_type": "execute_result"
    }
   ],
   "source": [
    "word_token = word_tokenize(text)\n",
    "word_token"
   ]
  },
  {
   "cell_type": "code",
   "execution_count": 4,
   "id": "63e8c0e5-8e8f-4cad-b969-fbdd9f2bf99a",
   "metadata": {},
   "outputs": [
    {
     "data": {
      "text/plain": [
       "['I',\n",
       " 'am',\n",
       " 'a',\n",
       " 'fourth',\n",
       " 'year',\n",
       " 'engineering',\n",
       " 'student',\n",
       " 'from',\n",
       " 'SPPU',\n",
       " 'University']"
      ]
     },
     "execution_count": 4,
     "metadata": {},
     "output_type": "execute_result"
    }
   ],
   "source": [
    "def remove_punctuations(words):\n",
    "    return [word for word in words if word not in string.punctuation]\n",
    "\n",
    "clean = remove_punctuations(word_token)\n",
    "clean"
   ]
  },
  {
   "cell_type": "code",
   "execution_count": 5,
   "id": "c97abb8d-a906-48e4-b415-2f7fb59ff29c",
   "metadata": {},
   "outputs": [
    {
     "data": {
      "text/plain": [
       "['fourth', 'year', 'engineering', 'student', 'SPPU', 'University']"
      ]
     },
     "execution_count": 5,
     "metadata": {},
     "output_type": "execute_result"
    }
   ],
   "source": [
    "swords = stopwords.words(\"english\")\n",
    "\n",
    "def remove_stopwords(clean_words):\n",
    "    return [word for word in clean_words if word.lower() not in swords]\n",
    "\n",
    "removed = remove_stopwords(clean)\n",
    "removed "
   ]
  },
  {
   "cell_type": "code",
   "execution_count": 6,
   "id": "d8c804bc-590f-41b6-9fb1-1465c005069e",
   "metadata": {},
   "outputs": [
    {
     "data": {
      "text/plain": [
       "['fourth', 'year', 'engin', 'student', 'sppu', 'univers']"
      ]
     },
     "execution_count": 6,
     "metadata": {},
     "output_type": "execute_result"
    }
   ],
   "source": [
    "def stemming(cleaned):\n",
    "    return [ps.stem(stem) for stem in cleaned]\n",
    "\n",
    "stemmed = stemming(removed)\n",
    "stemmed"
   ]
  }
 ],
 "metadata": {
  "kernelspec": {
   "display_name": "Python 3 (ipykernel)",
   "language": "python",
   "name": "python3"
  },
  "language_info": {
   "codemirror_mode": {
    "name": "ipython",
    "version": 3
   },
   "file_extension": ".py",
   "mimetype": "text/x-python",
   "name": "python",
   "nbconvert_exporter": "python",
   "pygments_lexer": "ipython3",
   "version": "3.10.1"
  }
 },
 "nbformat": 4,
 "nbformat_minor": 5
}
