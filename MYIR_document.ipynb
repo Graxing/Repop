{
 "cells": [
  {
   "cell_type": "code",
   "execution_count": 1,
   "metadata": {
    "colab": {
     "base_uri": "https://localhost:8080/"
    },
    "id": "VPkJrbvIYp5u",
    "outputId": "43f1d436-0f44-4e48-897b-900709bf042e"
   },
   "outputs": [
    {
     "name": "stdout",
     "output_type": "stream",
     "text": [
      "Number of documents: 3729\n",
      "Categories: ['comp.graphics', 'rec.sport.baseball', 'sci.space', 'talk.politics.misc']\n"
     ]
    }
   ],
   "source": [
    "from sklearn.datasets import fetch_20newsgroups\n",
    "\n",
    "# Load a subset of the 20 newsgroups dataset (choosing 4 categories)\n",
    "categories = ['rec.sport.baseball', 'comp.graphics', 'sci.space', 'talk.politics.misc']\n",
    "newsgroups = fetch_20newsgroups(subset='all', categories=categories, remove=('headers', 'footers', 'quotes'))\n",
    "\n",
    "# Display number of documents and categories\n",
    "print(f\"Number of documents: {len(newsgroups.data)}\")\n",
    "print(f\"Categories: {newsgroups.target_names}\")\n"
   ]
  },
  {
   "cell_type": "code",
   "execution_count": 2,
   "metadata": {
    "colab": {
     "base_uri": "https://localhost:8080/"
    },
    "id": "JkCWswvw1WFr",
    "outputId": "5596abdf-5700-4bb2-8232-be58805585df"
   },
   "outputs": [
    {
     "name": "stdout",
     "output_type": "stream",
     "text": [
      "TF-IDF matrix shape: (3729, 18141)\n"
     ]
    }
   ],
   "source": [
    "from sklearn.feature_extraction.text import TfidfVectorizer\n",
    "\n",
    "# Create a TF-IDF vectorizer\n",
    "vectorizer = TfidfVectorizer(stop_words='english', max_df=0.5, min_df=2)\n",
    "\n",
    "# Transform the dataset into TF-IDF features\n",
    "tfidf_matrix = vectorizer.fit_transform(newsgroups.data)\n",
    "\n",
    "# Show the shape of the TF-IDF matrix\n",
    "print(f\"TF-IDF matrix shape: {tfidf_matrix.shape}\")\n"
   ]
  },
  {
   "cell_type": "code",
   "execution_count": 3,
   "metadata": {
    "colab": {
     "base_uri": "https://localhost:8080/"
    },
    "id": "d73DmAEa1Xq3",
    "outputId": "41000ff7-82fa-4206-b5ef-643d5d1a8e01"
   },
   "outputs": [
    {
     "name": "stdout",
     "output_type": "stream",
     "text": [
      "Filtered TF-IDF matrix shape: (3607, 18141)\n"
     ]
    }
   ],
   "source": [
    "import numpy as np\n",
    "\n",
    "# Identify rows in the TF-IDF matrix where the sum of terms is 0 (i.e., zero vectors)\n",
    "non_zero_indices = np.array(tfidf_matrix.sum(axis=1)).flatten() > 0\n",
    "\n",
    "# Filter out zero-vector documents\n",
    "tfidf_matrix_non_zero = tfidf_matrix[non_zero_indices]\n",
    "\n",
    "# Get the corresponding non-zero documents\n",
    "filtered_documents = [newsgroups.data[i] for i in range(len(newsgroups.data)) if non_zero_indices[i]]\n",
    "\n",
    "# Check the new shape of the TF-IDF matrix\n",
    "print(f\"Filtered TF-IDF matrix shape: {tfidf_matrix_non_zero.shape}\")\n"
   ]
  },
  {
   "cell_type": "code",
   "execution_count": 4,
   "metadata": {
    "colab": {
     "base_uri": "https://localhost:8080/"
    },
    "id": "cn08-3tO1apD",
    "outputId": "0f10c6da-cc21-4da2-fd20-932ca66db4d8"
   },
   "outputs": [
    {
     "name": "stdout",
     "output_type": "stream",
     "text": [
      "Cluster labels for the first 10 filtered documents: [0 0 0 0 0 0 0 0 0 0]\n"
     ]
    }
   ],
   "source": [
    "from sklearn.cluster import AgglomerativeClustering\n",
    "\n",
    "# Perform Agglomerative Clustering on the filtered TF-IDF matrix (choosing 4 clusters)\n",
    "agg_cluster = AgglomerativeClustering(n_clusters=4, metric='cosine', linkage='average')\n",
    "\n",
    "# Fit the clustering model\n",
    "agg_cluster.fit(tfidf_matrix_non_zero.toarray())\n",
    "\n",
    "# Display the cluster labels for the first 10 filtered documents\n",
    "cluster_labels = agg_cluster.labels_\n",
    "print(f\"Cluster labels for the first 10 filtered documents: {cluster_labels[:10]}\")\n"
   ]
  },
  {
   "cell_type": "code",
   "execution_count": 5,
   "metadata": {
    "colab": {
     "base_uri": "https://localhost:8080/"
    },
    "id": "Nwr1bXRR1eJJ",
    "outputId": "067524a0-ff7a-49e6-affa-fdc4e33d97a3"
   },
   "outputs": [
    {
     "name": "stderr",
     "output_type": "stream",
     "text": [
      "C:\\Users\\tanay\\AppData\\Local\\Temp\\ipykernel_24404\\1760499372.py:8: ClusterWarning: The symmetric non-negative hollow observation matrix looks suspiciously like an uncondensed distance matrix\n",
      "  linkage_matrix = sch.linkage(filtered_distance_matrix, method='average')\n"
     ]
    },
    {
     "name": "stdout",
     "output_type": "stream",
     "text": [
      "Number of filtered documents: 3607\n"
     ]
    }
   ],
   "source": [
    "from sklearn.metrics.pairwise import cosine_distances\n",
    "import scipy.cluster.hierarchy as sch\n",
    "\n",
    "# Compute the cosine distance matrix for the filtered TF-IDF matrix\n",
    "filtered_distance_matrix = cosine_distances(tfidf_matrix_non_zero)\n",
    "\n",
    "# Compute the linkage matrix using the average linkage method\n",
    "linkage_matrix = sch.linkage(filtered_distance_matrix, method='average')\n",
    "\n",
    "# Check the number of filtered documents (should match the number of labels)\n",
    "print(f\"Number of filtered documents: {len(filtered_documents)}\")"
   ]
  },
  {
   "cell_type": "code",
   "execution_count": 6,
   "metadata": {
    "colab": {
     "base_uri": "https://localhost:8080/"
    },
    "id": "UnzX2dNS1gSx",
    "outputId": "b7e5d8bf-9c99-4b93-aa1f-b45a555cf44d"
   },
   "outputs": [
    {
     "name": "stdout",
     "output_type": "stream",
     "text": [
      "Cluster Sizes: {0: 3604, 1: 1, 2: 1, 3: 1}\n"
     ]
    }
   ],
   "source": [
    "# Count the number of documents in each cluster\n",
    "unique, counts = np.unique(cluster_labels, return_counts=True)\n",
    "cluster_sizes = dict(zip(unique, counts))\n",
    "print(f\"Cluster Sizes: {cluster_sizes}\")"
   ]
  },
  {
   "cell_type": "code",
   "execution_count": 7,
   "metadata": {
    "colab": {
     "base_uri": "https://localhost:8080/"
    },
    "id": "QKcaUmjP1iqa",
    "outputId": "0023bc75-3e8d-4dcd-80d4-d11b6f412142"
   },
   "outputs": [
    {
     "name": "stdout",
     "output_type": "stream",
     "text": [
      "\n",
      "Document 1: \n",
      "Are you kidding?  I'm stuck with the Toronto SkyDome, where their idea\n",
      "of a 7th inning stretch is t...\n",
      "\n",
      "\n",
      "Document 2: \n",
      "\n",
      "\n",
      "\n",
      "\n",
      "\n",
      "Sigh.  You're absolutely right.  We have no political power whatsoever. \n",
      "Therefore, we should ...\n",
      "\n",
      "\n",
      "Document 3: \n",
      "\n",
      " The above statement ignores reality. The BD WERE provoked.\n",
      "\n",
      "\n",
      "\n",
      "\n",
      " Damn, Phil. You must have seen a ...\n",
      "\n",
      "\n",
      "Document 4: \n",
      "I'm sorry about your friend.  Really.  But this anecdote does nothing to\n",
      "justify the \"war on drugs\"...\n",
      "\n",
      "\n",
      "Document 5: Hank Greenberg was probably the greatest ever.  He was also subject to a\n",
      "lot of heckling from bigots...\n",
      "\n",
      "\n",
      "Document 6: \n",
      "Scott,\n",
      "\tI'm not so sure if this is helpful, but I usually use XV v2.21.  I use Sun IPCs and IPXs, a...\n",
      "\n",
      "\n",
      "Document 7: \n",
      "to take this to its, er, \"logical\" conclusion, it is impossible to\n",
      "ascertain whether or not i am a ...\n",
      "\n",
      "\n",
      "Document 8: Suppose the Soviets had managed to get their moon rocket working\n",
      "and had made it first.  They could ...\n",
      "\n",
      "\n",
      "Document 9: \n",
      "Hank Greenberg, Sid Gordon, Ron Blomberg....\n",
      "\n",
      "\n",
      "Document 10: \n",
      "Peter Nelson posted a very eloquent response to this point in \n",
      "talk.politics.misc, so I need not co...\n",
      "\n"
     ]
    }
   ],
   "source": [
    "# Print documents from the first cluster\n",
    "for i, doc in enumerate(filtered_documents[:10], start=1):\n",
    "    if cluster_labels[i] == 0:  # Replace 0 with the desired cluster number\n",
    "        print(f\"\\nDocument {i}: {doc[:100]}...\\n\")  # Print first 200 characters\n"
   ]
  }
 ],
 "metadata": {
  "colab": {
   "provenance": []
  },
  "kernelspec": {
   "display_name": "Python 3 (ipykernel)",
   "language": "python",
   "name": "python3"
  },
  "language_info": {
   "codemirror_mode": {
    "name": "ipython",
    "version": 3
   },
   "file_extension": ".py",
   "mimetype": "text/x-python",
   "name": "python",
   "nbconvert_exporter": "python",
   "pygments_lexer": "ipython3",
   "version": "3.10.1"
  }
 },
 "nbformat": 4,
 "nbformat_minor": 4
}
